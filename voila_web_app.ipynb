{
 "cells": [
  {
   "cell_type": "code",
   "execution_count": null,
   "metadata": {},
   "outputs": [],
   "source": [
    "import io\n",
    "import PIL\n",
    "import matplotlib.pyplot as plt\n",
    "%matplotlib inline \n",
    "\n",
    "import numpy as np\n",
    "from numpy import loadtxt\n",
    "from ipywidgets import widgets\n",
    "from tensorflow.keras.models import load_model\n",
    "from tensorflow.keras.preprocessing import image"
   ]
  },
  {
   "cell_type": "code",
   "execution_count": null,
   "metadata": {},
   "outputs": [],
   "source": [
    "# load model\n",
    "model = load_model('brain_tumor_resnet.h5')"
   ]
  },
  {
   "cell_type": "markdown",
   "metadata": {},
   "source": [
    "<h1 style ='border-bottom: 2px solid black'><center>Brain Tumor Detection</center></h1>"
   ]
  },
  {
   "cell_type": "markdown",
   "metadata": {},
   "source": [
    "<p>This web app based on deep learning is created with the intention to detect brain tumor. To do so, click the upload button below, and select the image. Please note that the image should be a <b>MRI scan</b>. Also, it should be the top view or the horizontal view of the brain.</p>"
   ]
  },
  {
   "cell_type": "code",
   "execution_count": null,
   "metadata": {},
   "outputs": [],
   "source": [
    "lbl_greet = widgets.Label('Select the Image')\n",
    "\n",
    "btn_upload = widgets.FileUpload()\n",
    "\n",
    "out_pl = widgets.Output()\n",
    "\n",
    "lbl_pred = widgets.Label()"
   ]
  },
  {
   "cell_type": "code",
   "execution_count": null,
   "metadata": {},
   "outputs": [],
   "source": [
    "def on_data_change(change):\n",
    "    lbl_pred.value = ''\n",
    "    \n",
    "    #img_test = image.load_img(btn_upload.data[-1])\n",
    "    #img = PIL.Image.open(btn_upload.data[-1])\n",
    "    #img_test = image.img_to_array(img)\n",
    "    \n",
    "    for name, file_info in btn_upload.value.items():\n",
    "        img = PIL.Image.open(io.BytesIO(file_info['content']))\n",
    "    \n",
    "    img_test = np.asarray(img)\n",
    "    img_test = np.expand_dims(img_test, axis=0)\n",
    "    out_pl.clear_output()\n",
    "    \n",
    "    #with out_pl: display(img_test.to_thumb(128,128))\n",
    "    with out_pl: plt.imshow(np.asarray(img))\n",
    "    # predict \n",
    "    score = model.predict(img_test)\n",
    "    if np.argmax(score[0])== 0:\n",
    "        lbl_pred.value = f'Prediction: No; Probability:{score[0][0]}'\n",
    "    else:\n",
    "        lbl_pred.value = f'Prediction: Yes; Probability:{score[0][1]:.3f}'\n",
    "    \"\"\"\n",
    "    if np.argmax(score)== 0:\n",
    "        lbl_pred.value = f'Prediction: No; Probability:{score[0]}'\n",
    "    else:\n",
    "        lbl_pred.value = f'Prediction: Yes; Probability:{score[1]}'\n",
    "    \"\"\""
   ]
  },
  {
   "cell_type": "code",
   "execution_count": null,
   "metadata": {},
   "outputs": [],
   "source": [
    "btn_upload.observe(on_data_change, names=['data'])"
   ]
  },
  {
   "cell_type": "code",
   "execution_count": null,
   "metadata": {
    "scrolled": true
   },
   "outputs": [],
   "source": [
    "display(lbl_greet, btn_upload, out_pl, lbl_pred)"
   ]
  },
  {
   "cell_type": "code",
   "execution_count": null,
   "metadata": {},
   "outputs": [],
   "source": []
  }
 ],
 "metadata": {
  "kernelspec": {
   "display_name": "Python 3",
   "language": "python",
   "name": "python3"
  },
  "language_info": {
   "codemirror_mode": {
    "name": "ipython",
    "version": 3
   },
   "file_extension": ".py",
   "mimetype": "text/x-python",
   "name": "python",
   "nbconvert_exporter": "python",
   "pygments_lexer": "ipython3",
   "version": "3.8.3"
  }
 },
 "nbformat": 4,
 "nbformat_minor": 4
}
